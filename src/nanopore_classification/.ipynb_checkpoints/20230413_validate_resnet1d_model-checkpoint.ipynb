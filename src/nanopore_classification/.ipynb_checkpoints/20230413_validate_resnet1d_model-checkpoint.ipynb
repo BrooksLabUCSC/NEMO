{
 "cells": [
  {
   "cell_type": "code",
   "execution_count": 1,
   "id": "1aa63c9c",
   "metadata": {},
   "outputs": [],
   "source": [
    "import matplotlib.pyplot as plt\n",
    "%matplotlib inline\n",
    "import numpy as np\n",
    "import torch\n",
    "from torch.utils.data import DataLoader\n",
    "from torchsummary import summary\n",
    "from tqdm import tqdm\n",
    "from nanopore_dataset import create_sample_map\n",
    "from nanopore_dataset import create_splits\n",
    "from nanopore_dataset import load_csv\n",
    "from nanopore_dataset import NanoporeDataset\n",
    "\n",
    "from resnet1d import ResNet1D\n",
    "import seaborn as sns"
   ]
  },
  {
   "cell_type": "code",
   "execution_count": 2,
   "id": "6fd7ea11",
   "metadata": {},
   "outputs": [],
   "source": [
    "device = \"cuda\" if torch.cuda.is_available() else \"mps\" if torch.backends.mps.is_available() else \"cpu\""
   ]
  },
  {
   "cell_type": "code",
   "execution_count": 4,
   "id": "913d85a3",
   "metadata": {
    "scrolled": true
   },
   "outputs": [
    {
     "name": "stdout",
     "output_type": "stream",
     "text": [
      "----------------------------------------------------------------\n",
      "        Layer (type)               Output Shape         Param #\n",
      "================================================================\n",
      "            Conv1d-1             [-1, 128, 400]             512\n",
      "   MyConv1dPadSame-2             [-1, 128, 400]               0\n",
      "       BatchNorm1d-3             [-1, 128, 400]             256\n",
      "              ReLU-4             [-1, 128, 400]               0\n",
      "            Conv1d-5             [-1, 128, 400]          49,280\n",
      "   MyConv1dPadSame-6             [-1, 128, 400]               0\n",
      "       BatchNorm1d-7             [-1, 128, 400]             256\n",
      "              ReLU-8             [-1, 128, 400]               0\n",
      "            Conv1d-9             [-1, 128, 400]          49,280\n",
      "  MyConv1dPadSame-10             [-1, 128, 400]               0\n",
      "       BasicBlock-11             [-1, 128, 400]               0\n",
      "      BatchNorm1d-12             [-1, 128, 400]             256\n",
      "             ReLU-13             [-1, 128, 400]               0\n",
      "           Conv1d-14             [-1, 128, 200]          49,280\n",
      "  MyConv1dPadSame-15             [-1, 128, 200]               0\n",
      "      BatchNorm1d-16             [-1, 128, 200]             256\n",
      "             ReLU-17             [-1, 128, 200]               0\n",
      "           Conv1d-18             [-1, 128, 200]          49,280\n",
      "  MyConv1dPadSame-19             [-1, 128, 200]               0\n",
      "        MaxPool1d-20             [-1, 128, 200]               0\n",
      "MyMaxPool1dPadSame-21             [-1, 128, 200]               0\n",
      "       BasicBlock-22             [-1, 128, 200]               0\n",
      "      BatchNorm1d-23             [-1, 128, 200]             256\n",
      "             ReLU-24             [-1, 128, 200]               0\n",
      "           Conv1d-25             [-1, 128, 200]          49,280\n",
      "  MyConv1dPadSame-26             [-1, 128, 200]               0\n",
      "      BatchNorm1d-27             [-1, 128, 200]             256\n",
      "             ReLU-28             [-1, 128, 200]               0\n",
      "           Conv1d-29             [-1, 128, 200]          49,280\n",
      "  MyConv1dPadSame-30             [-1, 128, 200]               0\n",
      "       BasicBlock-31             [-1, 128, 200]               0\n",
      "      BatchNorm1d-32             [-1, 128, 200]             256\n",
      "             ReLU-33             [-1, 128, 200]               0\n",
      "           Conv1d-34             [-1, 128, 100]          49,280\n",
      "  MyConv1dPadSame-35             [-1, 128, 100]               0\n",
      "      BatchNorm1d-36             [-1, 128, 100]             256\n",
      "             ReLU-37             [-1, 128, 100]               0\n",
      "           Conv1d-38             [-1, 128, 100]          49,280\n",
      "  MyConv1dPadSame-39             [-1, 128, 100]               0\n",
      "        MaxPool1d-40             [-1, 128, 100]               0\n",
      "MyMaxPool1dPadSame-41             [-1, 128, 100]               0\n",
      "       BasicBlock-42             [-1, 128, 100]               0\n",
      "      BatchNorm1d-43             [-1, 128, 100]             256\n",
      "             ReLU-44             [-1, 128, 100]               0\n",
      "           Conv1d-45             [-1, 256, 100]          98,560\n",
      "  MyConv1dPadSame-46             [-1, 256, 100]               0\n",
      "      BatchNorm1d-47             [-1, 256, 100]             512\n",
      "             ReLU-48             [-1, 256, 100]               0\n",
      "           Conv1d-49             [-1, 256, 100]         196,864\n",
      "  MyConv1dPadSame-50             [-1, 256, 100]               0\n",
      "       BasicBlock-51             [-1, 256, 100]               0\n",
      "      BatchNorm1d-52             [-1, 256, 100]             512\n",
      "             ReLU-53             [-1, 256, 100]               0\n",
      "           Conv1d-54              [-1, 256, 50]         196,864\n",
      "  MyConv1dPadSame-55              [-1, 256, 50]               0\n",
      "      BatchNorm1d-56              [-1, 256, 50]             512\n",
      "             ReLU-57              [-1, 256, 50]               0\n",
      "           Conv1d-58              [-1, 256, 50]         196,864\n",
      "  MyConv1dPadSame-59              [-1, 256, 50]               0\n",
      "        MaxPool1d-60              [-1, 256, 50]               0\n",
      "MyMaxPool1dPadSame-61              [-1, 256, 50]               0\n",
      "       BasicBlock-62              [-1, 256, 50]               0\n",
      "      BatchNorm1d-63              [-1, 256, 50]             512\n",
      "             ReLU-64              [-1, 256, 50]               0\n",
      "           Conv1d-65              [-1, 256, 50]         196,864\n",
      "  MyConv1dPadSame-66              [-1, 256, 50]               0\n",
      "      BatchNorm1d-67              [-1, 256, 50]             512\n",
      "             ReLU-68              [-1, 256, 50]               0\n",
      "           Conv1d-69              [-1, 256, 50]         196,864\n",
      "  MyConv1dPadSame-70              [-1, 256, 50]               0\n",
      "       BasicBlock-71              [-1, 256, 50]               0\n",
      "      BatchNorm1d-72              [-1, 256, 50]             512\n",
      "             ReLU-73              [-1, 256, 50]               0\n",
      "           Conv1d-74              [-1, 256, 25]         196,864\n",
      "  MyConv1dPadSame-75              [-1, 256, 25]               0\n",
      "      BatchNorm1d-76              [-1, 256, 25]             512\n",
      "             ReLU-77              [-1, 256, 25]               0\n",
      "           Conv1d-78              [-1, 256, 25]         196,864\n",
      "  MyConv1dPadSame-79              [-1, 256, 25]               0\n",
      "        MaxPool1d-80              [-1, 256, 25]               0\n",
      "MyMaxPool1dPadSame-81              [-1, 256, 25]               0\n",
      "       BasicBlock-82              [-1, 256, 25]               0\n",
      "      BatchNorm1d-83              [-1, 256, 25]             512\n",
      "             ReLU-84              [-1, 256, 25]               0\n",
      "           Linear-85                    [-1, 1]             257\n",
      "================================================================\n",
      "Total params: 1,878,017\n",
      "Trainable params: 1,878,017\n",
      "Non-trainable params: 0\n",
      "----------------------------------------------------------------\n",
      "Input size (MB): 0.00\n",
      "Forward/backward pass size (MB): 14.31\n",
      "Params size (MB): 7.16\n",
      "Estimated Total Size (MB): 21.47\n",
      "----------------------------------------------------------------\n"
     ]
    }
   ],
   "source": [
    "model = ResNet1D(\n",
    "            in_channels=1,\n",
    "            base_filters=128,\n",
    "            kernel_size=3,\n",
    "            stride=2,\n",
    "            groups=1,\n",
    "            n_block=8,\n",
    "            n_classes=2,\n",
    "            downsample_gap=2,\n",
    "            increasefilter_gap=4,\n",
    "            use_do=False)\n",
    "\n",
    "summary(model, (1, 400), device= device)"
   ]
  },
  {
   "cell_type": "code",
   "execution_count": 5,
   "id": "1f01cc61",
   "metadata": {},
   "outputs": [
    {
     "ename": "FileNotFoundError",
     "evalue": "[Errno 2] No such file or directory: './nanopore_classification/best_models/addseq_resnet1d.pt'",
     "output_type": "error",
     "traceback": [
      "\u001b[0;31m---------------------------------------------------------------------------\u001b[0m",
      "\u001b[0;31mFileNotFoundError\u001b[0m                         Traceback (most recent call last)",
      "Cell \u001b[0;32mIn[5], line 5\u001b[0m\n\u001b[1;32m      2\u001b[0m ADDSEQ_FN \u001b[38;5;241m=\u001b[39m \u001b[38;5;124m'\u001b[39m\u001b[38;5;124m./nanopore_classification/best_models/addseq_resnet1d.pt\u001b[39m\u001b[38;5;124m'\u001b[39m\n\u001b[1;32m      4\u001b[0m weights_path \u001b[38;5;241m=\u001b[39m ADDSEQ_FN\n\u001b[0;32m----> 5\u001b[0m model\u001b[38;5;241m.\u001b[39mload_state_dict(\u001b[43mtorch\u001b[49m\u001b[38;5;241;43m.\u001b[39;49m\u001b[43mload\u001b[49m\u001b[43m(\u001b[49m\u001b[43mweights_path\u001b[49m\u001b[43m,\u001b[49m\u001b[43m \u001b[49m\u001b[43mmap_location\u001b[49m\u001b[38;5;241;43m=\u001b[39;49m\u001b[43mtorch\u001b[49m\u001b[38;5;241;43m.\u001b[39;49m\u001b[43mdevice\u001b[49m\u001b[43m(\u001b[49m\u001b[43mdevice\u001b[49m\u001b[43m)\u001b[49m\u001b[43m)\u001b[49m)\n\u001b[1;32m      6\u001b[0m model\u001b[38;5;241m.\u001b[39mto(device)\n\u001b[1;32m      7\u001b[0m model\u001b[38;5;241m.\u001b[39meval()\n",
      "File \u001b[0;32m/private/groups/brookslab/gabai/miniconda3/envs/addseq/lib/python3.9/site-packages/torch/serialization.py:699\u001b[0m, in \u001b[0;36mload\u001b[0;34m(f, map_location, pickle_module, **pickle_load_args)\u001b[0m\n\u001b[1;32m    696\u001b[0m \u001b[38;5;28;01mif\u001b[39;00m \u001b[38;5;124m'\u001b[39m\u001b[38;5;124mencoding\u001b[39m\u001b[38;5;124m'\u001b[39m \u001b[38;5;129;01mnot\u001b[39;00m \u001b[38;5;129;01min\u001b[39;00m pickle_load_args\u001b[38;5;241m.\u001b[39mkeys():\n\u001b[1;32m    697\u001b[0m     pickle_load_args[\u001b[38;5;124m'\u001b[39m\u001b[38;5;124mencoding\u001b[39m\u001b[38;5;124m'\u001b[39m] \u001b[38;5;241m=\u001b[39m \u001b[38;5;124m'\u001b[39m\u001b[38;5;124mutf-8\u001b[39m\u001b[38;5;124m'\u001b[39m\n\u001b[0;32m--> 699\u001b[0m \u001b[38;5;28;01mwith\u001b[39;00m \u001b[43m_open_file_like\u001b[49m\u001b[43m(\u001b[49m\u001b[43mf\u001b[49m\u001b[43m,\u001b[49m\u001b[43m \u001b[49m\u001b[38;5;124;43m'\u001b[39;49m\u001b[38;5;124;43mrb\u001b[39;49m\u001b[38;5;124;43m'\u001b[39;49m\u001b[43m)\u001b[49m \u001b[38;5;28;01mas\u001b[39;00m opened_file:\n\u001b[1;32m    700\u001b[0m     \u001b[38;5;28;01mif\u001b[39;00m _is_zipfile(opened_file):\n\u001b[1;32m    701\u001b[0m         \u001b[38;5;66;03m# The zipfile reader is going to advance the current file position.\u001b[39;00m\n\u001b[1;32m    702\u001b[0m         \u001b[38;5;66;03m# If we want to actually tail call to torch.jit.load, we need to\u001b[39;00m\n\u001b[1;32m    703\u001b[0m         \u001b[38;5;66;03m# reset back to the original position.\u001b[39;00m\n\u001b[1;32m    704\u001b[0m         orig_position \u001b[38;5;241m=\u001b[39m opened_file\u001b[38;5;241m.\u001b[39mtell()\n",
      "File \u001b[0;32m/private/groups/brookslab/gabai/miniconda3/envs/addseq/lib/python3.9/site-packages/torch/serialization.py:230\u001b[0m, in \u001b[0;36m_open_file_like\u001b[0;34m(name_or_buffer, mode)\u001b[0m\n\u001b[1;32m    228\u001b[0m \u001b[38;5;28;01mdef\u001b[39;00m \u001b[38;5;21m_open_file_like\u001b[39m(name_or_buffer, mode):\n\u001b[1;32m    229\u001b[0m     \u001b[38;5;28;01mif\u001b[39;00m _is_path(name_or_buffer):\n\u001b[0;32m--> 230\u001b[0m         \u001b[38;5;28;01mreturn\u001b[39;00m \u001b[43m_open_file\u001b[49m\u001b[43m(\u001b[49m\u001b[43mname_or_buffer\u001b[49m\u001b[43m,\u001b[49m\u001b[43m \u001b[49m\u001b[43mmode\u001b[49m\u001b[43m)\u001b[49m\n\u001b[1;32m    231\u001b[0m     \u001b[38;5;28;01melse\u001b[39;00m:\n\u001b[1;32m    232\u001b[0m         \u001b[38;5;28;01mif\u001b[39;00m \u001b[38;5;124m'\u001b[39m\u001b[38;5;124mw\u001b[39m\u001b[38;5;124m'\u001b[39m \u001b[38;5;129;01min\u001b[39;00m mode:\n",
      "File \u001b[0;32m/private/groups/brookslab/gabai/miniconda3/envs/addseq/lib/python3.9/site-packages/torch/serialization.py:211\u001b[0m, in \u001b[0;36m_open_file.__init__\u001b[0;34m(self, name, mode)\u001b[0m\n\u001b[1;32m    210\u001b[0m \u001b[38;5;28;01mdef\u001b[39;00m \u001b[38;5;21m__init__\u001b[39m(\u001b[38;5;28mself\u001b[39m, name, mode):\n\u001b[0;32m--> 211\u001b[0m     \u001b[38;5;28msuper\u001b[39m(_open_file, \u001b[38;5;28mself\u001b[39m)\u001b[38;5;241m.\u001b[39m\u001b[38;5;21m__init__\u001b[39m(\u001b[38;5;28;43mopen\u001b[39;49m\u001b[43m(\u001b[49m\u001b[43mname\u001b[49m\u001b[43m,\u001b[49m\u001b[43m \u001b[49m\u001b[43mmode\u001b[49m\u001b[43m)\u001b[49m)\n",
      "\u001b[0;31mFileNotFoundError\u001b[0m: [Errno 2] No such file or directory: './nanopore_classification/best_models/addseq_resnet1d.pt'"
     ]
    }
   ],
   "source": [
    "MESMLR_FN = './nanopore_classification/best_models/mesmlr_resnet1d.pt'\n",
    "ADDSEQ_FN = './nanopore_classification/best_models/addseq_resnet1d.pt'\n",
    "\n",
    "weights_path = ADDSEQ_FN\n",
    "model.load_state_dict(torch.load(weights_path, map_location=torch.device(device)))\n",
    "model.to(device)\n",
    "model.eval()"
   ]
  }
 ],
 "metadata": {
  "kernelspec": {
   "display_name": "Python 3 (ipykernel)",
   "language": "python",
   "name": "python3"
  },
  "language_info": {
   "codemirror_mode": {
    "name": "ipython",
    "version": 3
   },
   "file_extension": ".py",
   "mimetype": "text/x-python",
   "name": "python",
   "nbconvert_exporter": "python",
   "pygments_lexer": "ipython3",
   "version": "3.9.15"
  }
 },
 "nbformat": 4,
 "nbformat_minor": 5
}
